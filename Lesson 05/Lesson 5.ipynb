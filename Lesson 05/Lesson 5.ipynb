{
 "cells":[
  {
   "cell_type":"code",
   "source":[
    "a='Ihor'\n",
    "a\n",
    "\n",
    "b=\"My name is 'Ihor' \"\n",
    "b\n",
    "\n",
    "c=\"\"\"My name is \n",
    "Ihor\"\"\"\n",
    "print(c)"
   ],
   "execution_count":5,
   "outputs":[
    {
     "name":"stdout",
     "text":[
      "My name is \n",
      "Ihor\n"
     ],
     "output_type":"stream"
    }
   ],
   "metadata":{
    "datalore":{
     "node_id":"5rlUdtGgyUJQQCUjaDEddy",
     "type":"CODE",
     "hide_input_from_viewers":false,
     "hide_output_from_viewers":false
    }
   }
  },
  {
   "cell_type":"markdown",
   "source":[
    "**Завдання** 1\n",
    "    **Задано** деякі числа A та B (int):\n",
    "        * Перевірити умову: \"Число A є додатнє\"  \n",
    "        * Перевірити умову: \"Число A парне\"  \n",
    "        * Перевірити умову: \"Число A кратне 13\"  \n",
    "        * Перевірити умову: \"Кожне із чисел A та B - парне\"  \n",
    "        * Перевірити умову: \"Кожне із чисел A та B мають однакову парність \"  "
   ],
   "attachments":{
    
   },
   "metadata":{
    "datalore":{
     "node_id":"o1aE1teMclp62Uotgg63np",
     "type":"MD",
     "hide_input_from_viewers":false,
     "hide_output_from_viewers":false
    }
   }
  },
  {
   "cell_type":"code",
   "source":[
    "print(c,c, sep='@')"
   ],
   "execution_count":7,
   "outputs":[
    {
     "name":"stdout",
     "text":[
      "My name is \n",
      "Ihor@My name is \n",
      "Ihor\n"
     ],
     "output_type":"stream"
    }
   ],
   "metadata":{
    "datalore":{
     "node_id":"PGow0xSn1IyYG9YgvMwUwF",
     "type":"CODE",
     "hide_input_from_viewers":false,
     "hide_output_from_viewers":false
    }
   }
  },
  {
   "cell_type":"code",
   "source":[
    "print(c, end='!!!')"
   ],
   "execution_count":9,
   "outputs":[
    {
     "name":"stdout",
     "text":[
      "My name is \n",
      "Ihor!!!"
     ],
     "output_type":"stream"
    }
   ],
   "metadata":{
    "datalore":{
     "node_id":"XIt0B3A9jcG6ZMPhx9qozu",
     "type":"CODE",
     "hide_input_from_viewers":false,
     "hide_output_from_viewers":false
    }
   }
  },
  {
   "cell_type":"code",
   "source":[
    "name = 'Ihor'\n",
    "c= f\"\"\"My name is {name}\"\"\"\n",
    "c\n",
    "#f - форматована строка"
   ],
   "execution_count":16,
   "outputs":[
    {
     "data":{
      "text\/plain":[
       "'My name is Ihor'"
      ]
     },
     "metadata":{
      
     },
     "output_type":"display_data"
    }
   ],
   "metadata":{
    "datalore":{
     "node_id":"iZPDK1ldPSSMWS3R8lILba",
     "type":"CODE",
     "hide_input_from_viewers":false,
     "hide_output_from_viewers":false
    }
   }
  },
  {
   "cell_type":"code",
   "source":[
    "d= f\"\"\"My name is {1+2}\"\"\"\n",
    "d"
   ],
   "execution_count":17,
   "outputs":[
    {
     "data":{
      "text\/plain":[
       "'My name is 3'"
      ]
     },
     "metadata":{
      
     },
     "output_type":"display_data"
    }
   ],
   "metadata":{
    "datalore":{
     "node_id":"sKkVbPrbjBfkFHSy2q8sUO",
     "type":"CODE",
     "hide_input_from_viewers":false,
     "hide_output_from_viewers":false
    }
   }
  },
  {
   "cell_type":"code",
   "source":[
    "e=\"bla bla bla \\nla la la\"\n",
    "print(e)\n",
    "\n",
    "#екранування символів через бек слеш"
   ],
   "execution_count":20,
   "outputs":[
    {
     "name":"stdout",
     "text":[
      "bla bla bla \n",
      "la la la\n"
     ],
     "output_type":"stream"
    }
   ],
   "metadata":{
    "datalore":{
     "node_id":"Yry0oxIk0idUGeckecQnrT",
     "type":"CODE",
     "hide_input_from_viewers":false,
     "hide_output_from_viewers":false
    }
   }
  },
  {
   "cell_type":"code",
   "source":[
    "g=r\"bla bla bla \\n la la la\"\n",
    "print(g)\n",
    "\n",
    "#r -форматування, тоді екранування не працює"
   ],
   "execution_count":21,
   "outputs":[
    {
     "name":"stdout",
     "text":[
      "bla bla bla \\n la la la\n"
     ],
     "output_type":"stream"
    }
   ],
   "metadata":{
    "datalore":{
     "node_id":"FGEtTN8Me5FGg1DEC0NNQU",
     "type":"CODE",
     "hide_input_from_viewers":false,
     "hide_output_from_viewers":false
    }
   }
  },
  {
   "cell_type":"code",
   "source":[
    "#Перевірити умову: \"Число A парне\" - ділення на 2 без остачі\n",
    "A=10\n",
    "B=18\n",
    "\n",
    "print(A%2==0)"
   ],
   "execution_count":26,
   "outputs":[
    {
     "name":"stdout",
     "text":[
      "True\n"
     ],
     "output_type":"stream"
    }
   ],
   "metadata":{
    "datalore":{
     "node_id":"hF3tWjrEuWCG6uLp4TUZqQ",
     "type":"CODE",
     "hide_input_from_viewers":false,
     "hide_output_from_viewers":false
    }
   }
  },
  {
   "cell_type":"code",
   "source":[
    "#Перевірити умову: \"Кожне із чисел A та B - парне\" - одночасна умова AND\n",
    "\n",
    "(A%2==0) and (B%2==0)"
   ],
   "execution_count":27,
   "outputs":[
    {
     "data":{
      "text\/plain":[
       "True"
      ]
     },
     "metadata":{
      
     },
     "output_type":"display_data"
    }
   ],
   "metadata":{
    "datalore":{
     "node_id":"JKz5i77ivMezpL5zLJM7SK",
     "type":"CODE",
     "hide_input_from_viewers":false,
     "hide_output_from_viewers":false
    }
   }
  },
  {
   "cell_type":"code",
   "source":[
    "#Завдання 2\n",
    "   # Задано деякий пароль Pass (str). Перевірити чи пароль \"сильний\" \n",
    "    #(пароль будемо вважати \"сильним\", якщо він складається з 8 символів (або більше) та містить символ @ або # )\n",
    "    #Програма повертає True або False\n",
    "\n",
    "_pass = 'qwerty123@'\n",
    "\n",
    "(len(_pass) >= 8) and ('@' in _pass or '#' in _pass)"
   ],
   "execution_count":28,
   "outputs":[
    {
     "data":{
      "text\/plain":[
       "True"
      ]
     },
     "metadata":{
      
     },
     "output_type":"display_data"
    }
   ],
   "metadata":{
    "datalore":{
     "node_id":"cDXQWrqVOYNsf6vxONlPZe",
     "type":"CODE",
     "hide_input_from_viewers":false,
     "hide_output_from_viewers":false
    }
   }
  },
  {
   "cell_type":"code",
   "source":[
    "if (len(_pass) >= 8) and ('@' in _pass or '#' in _pass):\n",
    "    print('Сильний')\n",
    "else:\n",
    "    print('Слабкий')"
   ],
   "execution_count":29,
   "outputs":[
    {
     "name":"stdout",
     "text":[
      "Сильний\n"
     ],
     "output_type":"stream"
    }
   ],
   "metadata":{
    "datalore":{
     "node_id":"rYyYZIBBPI8IOmcBdUdGu9",
     "type":"CODE",
     "hide_input_from_viewers":false,
     "hide_output_from_viewers":false
    }
   }
  },
  {
   "cell_type":"code",
   "source":[
    "#Завдання 2\n",
    "    #Дано два цілих числа. Якщо вони рівні, то присвоїти цим змінним нулі;\n",
    "    #в іншому випадку  - кожній змінній присвоїти суму цих значень.\n",
    "a=10\n",
    "b=12\n",
    "\n",
    "if a == b:\n",
    "    a=0\n",
    "    b=0\n",
    "else:\n",
    "    a=a+b\n",
    "    b=a+b\n",
    "\n",
    "#невірне рішення, бо пішло переприсвоєння\n",
    "\n",
    "a,b"
   ],
   "execution_count":36,
   "outputs":[
    {
     "data":{
      "text\/plain":[
       "(22, 34)"
      ]
     },
     "metadata":{
      
     },
     "output_type":"display_data"
    }
   ],
   "metadata":{
    "datalore":{
     "node_id":"iSq3KnMOx3PA5QB2U6BbUj",
     "type":"CODE",
     "hide_input_from_viewers":false,
     "hide_output_from_viewers":false
    }
   }
  },
  {
   "cell_type":"code",
   "source":[
    "#вірне рішення\n",
    "\n",
    "a=10\n",
    "b=12\n",
    "\n",
    "if a == b:\n",
    "    a=0\n",
    "    b=0\n",
    "else:\n",
    "    a=a+b\n",
    "    b=a\n",
    "\n",
    "\n",
    "a,b"
   ],
   "execution_count":37,
   "outputs":[
    {
     "data":{
      "text\/plain":[
       "(22, 22)"
      ]
     },
     "metadata":{
      
     },
     "output_type":"display_data"
    }
   ],
   "metadata":{
    "datalore":{
     "node_id":"ITDfmkbQrXYcXEPh6wR1Zx",
     "type":"CODE",
     "hide_input_from_viewers":false,
     "hide_output_from_viewers":false
    }
   }
  },
  {
   "cell_type":"code",
   "source":[
    "#вірне рішення\n",
    "\n",
    "a=10\n",
    "b=12\n",
    "\n",
    "if a == b:\n",
    "    a, b =0, 0\n",
    "   \n",
    "else:\n",
    "    a, b =a+b, a+b\n",
    "\n",
    "\n",
    "\n",
    "\n",
    "a,b"
   ],
   "execution_count":38,
   "outputs":[
    {
     "data":{
      "text\/plain":[
       "(22, 22)"
      ]
     },
     "metadata":{
      
     },
     "output_type":"display_data"
    }
   ],
   "metadata":{
    "datalore":{
     "node_id":"8YB5J2kR3WQu7Gd7xRSkoO",
     "type":"CODE",
     "hide_input_from_viewers":false,
     "hide_output_from_viewers":false
    }
   }
  },
  {
   "cell_type":"code",
   "source":[
    "#Завдання 3\n",
    "   # Дано три цілих числа. Знайти суму двох найбільших із них.\n",
    "\n",
    "a, b, c =10,15,35\n",
    "\n",
    "ab=a+b\n",
    "bc=b+c\n",
    "ac=a+c\n",
    "\n",
    "max(ab,bc,ac)"
   ],
   "execution_count":40,
   "outputs":[
    {
     "data":{
      "text\/plain":[
       "50"
      ]
     },
     "metadata":{
      
     },
     "output_type":"display_data"
    }
   ],
   "metadata":{
    "datalore":{
     "node_id":"R5aLXJ2ZwXc8K6vQNPFMCy",
     "type":"CODE",
     "hide_input_from_viewers":false,
     "hide_output_from_viewers":false
    }
   }
  },
  {
   "cell_type":"code",
   "source":[
    "my_list=[a,b,c]\n",
    "\n",
    "sum(sorted(my_list)[1:3])"
   ],
   "execution_count":42,
   "outputs":[
    {
     "data":{
      "text\/plain":[
       "50"
      ]
     },
     "metadata":{
      
     },
     "output_type":"display_data"
    }
   ],
   "metadata":{
    "datalore":{
     "node_id":"Mg9RnXNQhvrj7KCT3A229a",
     "type":"CODE",
     "hide_input_from_viewers":false,
     "hide_output_from_viewers":false
    }
   }
  },
  {
   "cell_type":"code",
   "source":[
    "#так функція працює\n",
    "sum([1,2,3])"
   ],
   "execution_count":43,
   "outputs":[
    {
     "data":{
      "text\/plain":[
       "6"
      ]
     },
     "metadata":{
      
     },
     "output_type":"display_data"
    }
   ],
   "metadata":{
    "datalore":{
     "node_id":"OMME3u8vNYIFUAaTyKpGtJ",
     "type":"CODE",
     "hide_input_from_viewers":false,
     "hide_output_from_viewers":false
    }
   }
  },
  {
   "cell_type":"code",
   "source":[
    "#так функція не працює\n",
    "sum(1,2,3)"
   ],
   "execution_count":44,
   "outputs":[
    {
     "ename":"TypeError",
     "evalue":"TypeError: sum() takes at most 2 arguments (3 given)",
     "traceback":[
      "\u001b[0;31m---------------------------------------------------------------------------",
      "Traceback (most recent call last)",
      "    at line 1 in <module>",
      "TypeError: sum() takes at most 2 arguments (3 given)"
     ],
     "output_type":"error"
    }
   ],
   "metadata":{
    "datalore":{
     "node_id":"umYf788PsqppabkA4Dwh1F",
     "type":"CODE",
     "hide_input_from_viewers":false,
     "hide_output_from_viewers":false
    }
   }
  },
  {
   "cell_type":"code",
   "source":[
    "#лаконічне рішення\n",
    "a+b+c-min(a,b,c)"
   ],
   "execution_count":46,
   "outputs":[
    {
     "data":{
      "text\/plain":[
       "50"
      ]
     },
     "metadata":{
      
     },
     "output_type":"display_data"
    }
   ],
   "metadata":{
    "datalore":{
     "node_id":"YglzjyCEarO1LGKV0QgNpY",
     "type":"CODE",
     "hide_input_from_viewers":false,
     "hide_output_from_viewers":false
    }
   }
  },
  {
   "cell_type":"code",
   "source":[
    "#Завдання 4\n",
    "   # Дана стрічка. Якщо в цій стрічці відсутня буква \"a\", вивести \"False\".\n",
    "    #Якщо буква зустрічається один раз - вивести її індекс.\n",
    "    #Якщо більше одного разу - вивести індекс першого та останнього входження.\n",
    "\n",
    "my_string='sderuauggh'\n",
    "what_find = 'a'\n",
    "if what_find in my_string:\n",
    "    if my_string.count(what_find) ==1:\n",
    "        print(my_string.index(what_find))\n",
    "else:\n",
    "    print(False)"
   ],
   "execution_count":53,
   "outputs":[
    
   ],
   "metadata":{
    "datalore":{
     "node_id":"ZLXp1uEo5aIn1MZpy0SWeY",
     "type":"CODE",
     "hide_input_from_viewers":false,
     "hide_output_from_viewers":false
    }
   }
  },
  {
   "cell_type":"code",
   "source":[
    "my_string='sderuauggah'\n",
    "what_find = 'a'\n",
    "if what_find in my_string:\n",
    "    if my_string.count(what_find) ==1:\n",
    "        print(my_string.find(what_find))\n",
    "    else: \n",
    "        print(my_string.find(what_find))\n",
    "        print(my_string.rfind(what_find))\n",
    "else:\n",
    "    print(False)"
   ],
   "execution_count":57,
   "outputs":[
    {
     "name":"stdout",
     "text":[
      "5\n",
      "9\n"
     ],
     "output_type":"stream"
    }
   ],
   "metadata":{
    "datalore":{
     "node_id":"tYtQ3e108nOmsZd3M5hrKa",
     "type":"CODE",
     "hide_input_from_viewers":false,
     "hide_output_from_viewers":false
    }
   }
  },
  {
   "cell_type":"code",
   "source":[
    "if what_find in my_string:\n",
    "    if my_string.count(what_find) ==1:\n",
    "        print(my_string.find(what_find))\n",
    "        if True:\n",
    "            print('YYY')\n",
    "    else: \n",
    "        print(my_string.find(what_find))\n",
    "        print(my_string.rfind(what_find))\n",
    "else:\n",
    "    print(False)"
   ],
   "execution_count":58,
   "outputs":[
    {
     "name":"stdout",
     "text":[
      "5\n",
      "9\n"
     ],
     "output_type":"stream"
    }
   ],
   "metadata":{
    "datalore":{
     "node_id":"fIc0vpolz0jTCuSoUkWqxN",
     "type":"CODE",
     "hide_input_from_viewers":false,
     "hide_output_from_viewers":false
    }
   }
  },
  {
   "cell_type":"code",
   "source":[
    "#Завдання 5\n",
    "    #Дано одне число Price - ціна на 1 кг апельсин. \n",
    "   # Вивести вартість 1, 2, ... , 10 кг апельсин.\n",
    "    #(Спробуйте вирішити задачу двома способами: циклом FOR та циклом WHILE)\n",
    "\n",
    "price = 70\n",
    "\n",
    "#range(1,n) генерує послідовність чисел\n",
    "\n",
    "for i in range(1,11):\n",
    "    print(price*i)"
   ],
   "execution_count":59,
   "outputs":[
    {
     "name":"stdout",
     "text":[
      "70\n",
      "140\n",
      "210\n",
      "280\n",
      "350\n",
      "420\n",
      "490\n",
      "560\n",
      "630\n",
      "700\n"
     ],
     "output_type":"stream"
    }
   ],
   "metadata":{
    "datalore":{
     "node_id":"fqhtWQRfpgZVUNklIIfwFu",
     "type":"CODE",
     "hide_input_from_viewers":false,
     "hide_output_from_viewers":false
    }
   }
  },
  {
   "cell_type":"code",
   "source":[
    "a=range(1,11)\n",
    "list(a)"
   ],
   "execution_count":60,
   "outputs":[
    {
     "data":{
      "text\/plain":[
       "[1, 2, 3, 4, 5, 6, 7, 8, 9, 10]"
      ]
     },
     "metadata":{
      
     },
     "output_type":"display_data"
    }
   ],
   "metadata":{
    "datalore":{
     "node_id":"vSglX0kVOnZ3OuijCJLfDo",
     "type":"CODE",
     "hide_input_from_viewers":false,
     "hide_output_from_viewers":false
    }
   }
  },
  {
   "cell_type":"code",
   "source":[
    "for i in [1,2,4]:\n",
    "    print(price*i)"
   ],
   "execution_count":61,
   "outputs":[
    {
     "name":"stdout",
     "text":[
      "70\n",
      "140\n",
      "280\n"
     ],
     "output_type":"stream"
    }
   ],
   "metadata":{
    "datalore":{
     "node_id":"Az9ztrykp8KiG0bCfysoCS",
     "type":"CODE",
     "hide_input_from_viewers":false,
     "hide_output_from_viewers":false
    }
   }
  },
  {
   "cell_type":"code",
   "source":[
    "for letter in 'abcd':\n",
    "    print(letter)"
   ],
   "execution_count":63,
   "outputs":[
    {
     "name":"stdout",
     "text":[
      "a\n",
      "b\n",
      "c\n",
      "d\n"
     ],
     "output_type":"stream"
    }
   ],
   "metadata":{
    "datalore":{
     "node_id":"oNtZMS4efkZpR3R6no2NPL",
     "type":"CODE",
     "hide_input_from_viewers":false,
     "hide_output_from_viewers":false
    }
   }
  },
  {
   "cell_type":"code",
   "source":[
    "price=70\n",
    "weight =1\n",
    "\n",
    "while weight <=10:\n",
    "    print(price*weight)\n",
    "    weight+=1"
   ],
   "execution_count":64,
   "outputs":[
    {
     "name":"stdout",
     "text":[
      "70\n",
      "140\n",
      "210\n",
      "280\n",
      "350\n",
      "420\n",
      "490\n",
      "560\n",
      "630\n",
      "700\n"
     ],
     "output_type":"stream"
    }
   ],
   "metadata":{
    "datalore":{
     "node_id":"N0AWYqD0qCjq0gQLVRpULj",
     "type":"CODE",
     "hide_input_from_viewers":false,
     "hide_output_from_viewers":false
    }
   }
  },
  {
   "cell_type":"code",
   "source":[
    "students = ['anton', 'Nadi', 'marina', 'Zoom user']\n",
    "\n",
    "for student in students:\n",
    "    print(student)"
   ],
   "execution_count":67,
   "outputs":[
    {
     "name":"stdout",
     "text":[
      "anton\n",
      "Nadi\n",
      "marina\n",
      "Zoom user\n"
     ],
     "output_type":"stream"
    }
   ],
   "metadata":{
    "datalore":{
     "node_id":"RrdyubHGuX3DFU7KpHxb77",
     "type":"CODE",
     "hide_input_from_viewers":false,
     "hide_output_from_viewers":false
    }
   }
  },
  {
   "cell_type":"code",
   "source":[
    "for student in students:\n",
    "    print(student.capitalize())"
   ],
   "execution_count":68,
   "outputs":[
    {
     "name":"stdout",
     "text":[
      "Anton\n",
      "Nadi\n",
      "Marina\n",
      "Zoom user\n"
     ],
     "output_type":"stream"
    }
   ],
   "metadata":{
    "datalore":{
     "node_id":"1hEEStmlkM49AdDYu5W9mK",
     "type":"CODE",
     "hide_input_from_viewers":false,
     "hide_output_from_viewers":false
    }
   }
  },
  {
   "cell_type":"code",
   "source":[
    "students2=[]\n",
    "for student in students:\n",
    "    #student=student.capitalize()\n",
    "    students2.append(student.capitalize())\n",
    "students2"
   ],
   "execution_count":69,
   "outputs":[
    {
     "data":{
      "text\/plain":[
       "['Anton', 'Nadi', 'Marina', 'Zoom user']"
      ]
     },
     "metadata":{
      
     },
     "output_type":"display_data"
    }
   ],
   "metadata":{
    "datalore":{
     "node_id":"OgJhX2KNUJrQrZTAfllWOP",
     "type":"CODE",
     "hide_input_from_viewers":false,
     "hide_output_from_viewers":false
    }
   }
  },
  {
   "cell_type":"code",
   "source":[
    "students"
   ],
   "execution_count":70,
   "outputs":[
    {
     "data":{
      "text\/plain":[
       "['anton', 'Nadi', 'marina', 'Zoom user']"
      ]
     },
     "metadata":{
      
     },
     "output_type":"display_data"
    }
   ],
   "metadata":{
    "datalore":{
     "node_id":"vdgKDkuabudsZNRNPVrRFZ",
     "type":"CODE",
     "hide_input_from_viewers":false,
     "hide_output_from_viewers":false
    }
   }
  },
  {
   "cell_type":"code",
   "source":[
    "students[0] = students[0].capitalize()\n",
    "students"
   ],
   "execution_count":71,
   "outputs":[
    {
     "data":{
      "text\/plain":[
       "['Anton', 'Nadi', 'marina', 'Zoom user']"
      ]
     },
     "metadata":{
      
     },
     "output_type":"display_data"
    }
   ],
   "metadata":{
    "datalore":{
     "node_id":"kFXpUfPQBjVYRKTAoWSoPX",
     "type":"CODE",
     "hide_input_from_viewers":false,
     "hide_output_from_viewers":false
    }
   }
  },
  {
   "cell_type":"code",
   "source":[
    "for i in range(len(students)):\n",
    "    print(i)"
   ],
   "execution_count":73,
   "outputs":[
    {
     "name":"stdout",
     "text":[
      "0\n",
      "1\n",
      "2\n",
      "3\n"
     ],
     "output_type":"stream"
    }
   ],
   "metadata":{
    "datalore":{
     "node_id":"F5AfOTbV81nRcDzN6CuCSh",
     "type":"CODE",
     "hide_input_from_viewers":false,
     "hide_output_from_viewers":false
    }
   }
  },
  {
   "cell_type":"code",
   "source":[
    "for i in range(len(students)):\n",
    "    students[i] = students[i].capitalize()\n",
    "\n",
    "students"
   ],
   "execution_count":75,
   "outputs":[
    {
     "data":{
      "text\/plain":[
       "['Anton', 'Nadi', 'Marina', 'Zoom user']"
      ]
     },
     "metadata":{
      
     },
     "output_type":"display_data"
    }
   ],
   "metadata":{
    "datalore":{
     "node_id":"7dmmAj3Gb77TXu7JouKmGt",
     "type":"CODE",
     "hide_input_from_viewers":false,
     "hide_output_from_viewers":false
    }
   }
  },
  {
   "cell_type":"code",
   "source":[
    "#ЗРОБИТИ САМОСТІЙНО\n",
    "#Завдання 6\n",
    " #   Дано ціле число. Для цього числа виведіть сходинки.\n",
    "  #  Наприклад, для числа 5 результат наступний:\n",
    "        #\n",
    "        ##\n",
    "        ###\n",
    "        ####\n",
    "        #####"
   ],
   "execution_count":76,
   "outputs":[
    
   ],
   "metadata":{
    "datalore":{
     "node_id":"pKsI0QAK4tEgjdehcBdqYw",
     "type":"CODE",
     "hide_input_from_viewers":false,
     "hide_output_from_viewers":false
    }
   }
  },
  {
   "cell_type":"code",
   "source":[
    "#Завдання 8\n",
    "   # На карантині я розпочав бігові тренування. В перший день пробіг 500 метрів.\n",
    "   # Кожний наступний день дистанцію збільшую на 10%. Відомо, що карантин триває 30 днів.\n",
    "    \n",
    "       # - Яку дистанцію я пробіжу в останній день карантину?\n",
    "        \n",
    "       # - Скільки днів потрібно бігати, щоб сумарна дистанція за всі дні \n",
    "       #     перевищила довжину марафону (42 км)?\n",
    "\n",
    "#IT спосіб\n",
    "\n",
    "L=500\n",
    "qtyDays = 30\n",
    "for i in range(1,qtyDays+1):\n",
    "    print(f'День{i}, відстань{round(L)}')\n",
    "    L=L*1.1"
   ],
   "execution_count":81,
   "outputs":[
    {
     "name":"stdout",
     "text":[
      "День1, відстань500\n",
      "День2, відстань550\n",
      "День3, відстань605\n",
      "День4, відстань666\n",
      "День5, відстань732\n",
      "День6, відстань805\n",
      "День7, відстань886\n",
      "День8, відстань974\n",
      "День9, відстань1072\n",
      "День10, відстань1179\n",
      "День11, відстань1297\n",
      "День12, відстань1427\n",
      "День13, відстань1569\n",
      "День14, відстань1726\n",
      "День15, відстань1899\n",
      "День16, відстань2089\n",
      "День17, відстань2297\n",
      "День18, відстань2527\n",
      "День19, відстань2780\n",
      "День20, відстань3058\n",
      "День21, відстань3364\n",
      "День22, відстань3700\n",
      "День23, відстань4070\n",
      "День24, відстань4477\n",
      "День25, відстань4925\n",
      "День26, відстань5417\n",
      "День27, відстань5959\n",
      "День28, відстань6555\n",
      "День29, відстань7210\n",
      "День30, відстань7932\n"
     ],
     "output_type":"stream"
    }
   ],
   "metadata":{
    "datalore":{
     "node_id":"cwKWZbSiZ0T8YnxeCqRCkg",
     "type":"CODE",
     "hide_input_from_viewers":false,
     "hide_output_from_viewers":false
    }
   }
  },
  {
   "cell_type":"code",
   "source":[
    "# a=a0(1+%)**qtyDays - банківська формула відсотків (** - степінь)\n",
    "\n",
    "L=500\n",
    "qtyDays = 30\n",
    "\n",
    "distance = L*(1+0.1)**29\n",
    "distance"
   ],
   "execution_count":82,
   "outputs":[
    {
     "data":{
      "text\/plain":[
       "7931.546485857476"
      ]
     },
     "metadata":{
      
     },
     "output_type":"display_data"
    }
   ],
   "metadata":{
    "datalore":{
     "node_id":"ulQtCc1L1dui6ZAwUxcCAO",
     "type":"CODE",
     "hide_input_from_viewers":false,
     "hide_output_from_viewers":false
    }
   }
  },
  {
   "cell_type":"code",
   "source":[
    "new_list=[0,1,2,3,6,10,11,-25]\n",
    "\n",
    "max(new_list)"
   ],
   "execution_count":84,
   "outputs":[
    {
     "data":{
      "text\/plain":[
       "11"
      ]
     },
     "metadata":{
      
     },
     "output_type":"display_data"
    }
   ],
   "metadata":{
    "datalore":{
     "node_id":"WhdqH2QQNoUOmmLa6gzOI5",
     "type":"CODE",
     "hide_input_from_viewers":false,
     "hide_output_from_viewers":false
    }
   }
  },
  {
   "cell_type":"code",
   "source":[
    "#пошук другого максимуму\n",
    "\n",
    "max_number = -9999999999\n",
    "\n",
    "for i in new_list:\n",
    "    if max_number < i:\n",
    "        max_number = i\n",
    "max_number"
   ],
   "execution_count":86,
   "outputs":[
    {
     "data":{
      "text\/plain":[
       "11"
      ]
     },
     "metadata":{
      
     },
     "output_type":"display_data"
    }
   ],
   "metadata":{
    "datalore":{
     "node_id":"5s5z8EvOwD7ZevcYrlRN7u",
     "type":"CODE",
     "hide_input_from_viewers":false,
     "hide_output_from_viewers":false
    }
   }
  },
  {
   "cell_type":"code",
   "source":[
    "new_list=[0,1,2,3,6,10,11,-25]\n",
    "sum(new_list)"
   ],
   "execution_count":87,
   "outputs":[
    {
     "data":{
      "text\/plain":[
       "8"
      ]
     },
     "metadata":{
      
     },
     "output_type":"display_data"
    }
   ],
   "metadata":{
    "datalore":{
     "node_id":"ohQ3Bwiv0H2jGGK0JVTBAs",
     "type":"CODE",
     "hide_input_from_viewers":false,
     "hide_output_from_viewers":false
    }
   }
  },
  {
   "cell_type":"code",
   "source":[
    "new_list=[0,1,2,3,6,10,11,-25]\n",
    "\n",
    "list_sum=0\n",
    "\n",
    "for i in new_list:\n",
    "    list_sum=list_sum+i\n",
    "#list_sum+=i\n",
    "\n",
    "list_sum"
   ],
   "execution_count":100,
   "outputs":[
    {
     "data":{
      "text\/plain":[
       "8"
      ]
     },
     "metadata":{
      
     },
     "output_type":"display_data"
    }
   ],
   "metadata":{
    "datalore":{
     "node_id":"2AtUNNV5zyAgjG1nUQ1LqJ",
     "type":"CODE",
     "hide_input_from_viewers":false,
     "hide_output_from_viewers":false
    }
   }
  },
  {
   "cell_type":"code",
   "source":[
    "#Напишіть програму \"Митниця\". Алгоритм її роботи наступний: програма на вхід получає імена людей, що перетинають кордон. \n",
    "#\tВвід закінчується тоді, коли введено слово \"END\"\n",
    "#\tПри завершені роботи, програма виводить ім’я людини та кількість перетинів кордону. \n",
    "\n",
    "#нескінченний цикл\n",
    "DB={}\n",
    "\n",
    "while True:\n",
    "    input_info = input('Хто перетинає кордон:')\n",
    "    if input_info == 'END':\n",
    "        break\n",
    " #   if input_info not in DB:\n",
    " #       DB[input_info] +=1\n",
    " #   else:\n",
    " #       DB[input_info] =1\n",
    "DB[input_info] = DB.get(input_info,0)+1\n",
    "\n",
    "print(DB)\n",
    "        "
   ],
   "execution_count":104,
   "outputs":[
    {
     "name":"stdout",
     "text":[
      "Хто перетинає кордон: Ihor\n",
      "Хто перетинає кордон: end\n",
      "Хто перетинає кордон: END\n"
     ],
     "output_type":"stream"
    }
   ],
   "metadata":{
    "datalore":{
     "node_id":"nCzHcHifFnc66KXaPzqeK2",
     "type":"CODE",
     "hide_input_from_viewers":false,
     "hide_output_from_viewers":false
    }
   }
  },
  {
   "cell_type":"code",
   "source":[
    "#for i in range (10):\n",
    "    #if i>5:\n",
    "    #    break\n",
    "   # else:\n",
    "   #     print(i)\n",
    "  #  else:\n",
    "  #  print('END')"
   ],
   "execution_count":110,
   "outputs":[
    {
     "ename":"IndentationError",
     "evalue":"IndentationError: unindent does not match any outer indentation level",
     "traceback":[
      "\u001b[0;31m---------------------------------------------------------------------------",
      "Traceback (most recent call last)",
      "IndentationError: unindent does not match any outer indentation level"
     ],
     "output_type":"error"
    }
   ],
   "metadata":{
    "datalore":{
     "node_id":"TXudPql9NwVNXSKzC9lsKC",
     "type":"CODE",
     "hide_input_from_viewers":false,
     "hide_output_from_viewers":false
    }
   }
  },
  {
   "cell_type":"code",
   "source":[
    "for i in range (10):\n",
    "    if i>5:\n",
    "       continue\n",
    "    print(i)\n",
    "   "
   ],
   "execution_count":112,
   "outputs":[
    {
     "name":"stdout",
     "text":[
      "0\n",
      "1\n",
      "2\n",
      "3\n",
      "4\n",
      "5\n"
     ],
     "output_type":"stream"
    }
   ],
   "metadata":{
    "datalore":{
     "node_id":"5zqAravxpnUb2eMWB9Wq8G",
     "type":"CODE",
     "hide_input_from_viewers":false,
     "hide_output_from_viewers":false
    }
   }
  }
 ],
 "metadata":{
  "kernelspec":{
   "display_name":"Python",
   "language":"python",
   "name":"python"
  },
  "datalore":{
   "version":1,
   "computation_mode":"JUPYTER",
   "package_manager":"pip",
   "base_environment":"default",
   "packages":[
    
   ]
  }
 },
 "nbformat":4,
 "nbformat_minor":4
}