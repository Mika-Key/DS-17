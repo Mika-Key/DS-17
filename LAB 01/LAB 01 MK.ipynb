{
 "cells":[
  {
   "cell_type":"markdown",
   "source":[
    "# **1. Markdown cells**\n",
    "\n",
    " * Hi! Its Main Academy?\n",
    " * All HTML tabs are supported!\n",
    " * Моя сторінка на лінкедін [Лінкедін](https:\/\/ua.linkedin.com\/)\n",
    "  \n",
    "\n",
    " # This is Heading 1\n",
    "\n",
    " ## This is Heading 2\n",
    "\n",
    " some gray colored text:\n",
    "\n",
    "  > \n",
    "  >This is where we can bring qoutes and present them nicely\n",
    "\n",
    "  And this is a paragraph about something very important. Even math:  \n",
    "\n",
    " $y_{sub}=\\sqrt{x_{sub}}$\n",
    "\n",
    " Or python code example:  \n",
    "\n",
    " import math  \n",
    " def foo():  \n",
    " return \"foo\""
   ],
   "attachments":{
    
   },
   "metadata":{
    "datalore":{
     "node_id":"jtXnkvSBSvVXTKTtx1g7ZC",
     "type":"MD",
     "hide_input_from_viewers":false,
     "hide_output_from_viewers":false
    }
   }
  },
  {
   "cell_type":"markdown",
   "source":[
    "Here is the sample mean:\n",
    "\n",
    "$\\tilde{y} = \\frac{1}{n}\\displaystyle\\sum_{i=1}^{n} y_i$\n",
    "\n",
    "Here is the sample variance:\n",
    "\n",
    "$\\sigma^2 = \\frac{\\displaystyle\\sum_{i=1}^{n} (y_i-\\tilde{y})^2}{n-1}$\n",
    "\n",
    "Here is the sample standard deviation:\n",
    "\n",
    "$\\sigma =\\sqrt\\frac{\\displaystyle\\sum_{i=1}^{n} (y_i-\\tilde{y})^2}{n-1}$"
   ],
   "attachments":{
    
   },
   "metadata":{
    "datalore":{
     "node_id":"E9hop7KFsoQcTArbNNICPi",
     "type":"MD",
     "hide_input_from_viewers":false,
     "hide_output_from_viewers":false
    }
   }
  }
 ],
 "metadata":{
  "kernelspec":{
   "display_name":"Python",
   "language":"python",
   "name":"python"
  },
  "datalore":{
   "version":1,
   "computation_mode":"JUPYTER",
   "package_manager":"pip",
   "base_environment":"default",
   "packages":[
    
   ]
  }
 },
 "nbformat":4,
 "nbformat_minor":4
}